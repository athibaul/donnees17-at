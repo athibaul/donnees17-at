{
 "cells": [
  {
   "cell_type": "markdown",
   "metadata": {},
   "source": [
    "# Deconvolution under Gaussian prior\n",
    "\n",
    "We use an Expectation-Maximization framework in order to apply the $MAP_k$ algorithm with a Gaussian prior."
   ]
  },
  {
   "cell_type": "code",
   "execution_count": 1,
   "metadata": {
    "collapsed": true
   },
   "outputs": [],
   "source": [
    "import numpy as np\n",
    "import matplotlib.pyplot as plt"
   ]
  },
  {
   "cell_type": "code",
   "execution_count": 24,
   "metadata": {
    "collapsed": true
   },
   "outputs": [],
   "source": [
    "n = 5 # Image size is n*n\n",
    "N = n**2 # Pixels per image\n",
    "K = 1 # Kernel size is (2K+1)*(2K+1)\n",
    "# (note that when performing convolution, we consider the image to be its own symmetric past the edges,\n",
    "# with the boundary pixels taking up two spaces)\n",
    "\n",
    "eta = 0.01\n",
    "sigma = 0.1"
   ]
  },
  {
   "cell_type": "markdown",
   "metadata": {},
   "source": [
    "## EM algorithm\n",
    "\n",
    "Alternate between two steps : estimating the likely image (and its covariance), and estimating the likely kernel."
   ]
  },
  {
   "cell_type": "markdown",
   "metadata": {},
   "source": [
    "### E-step\n",
    "Set $$q(x) = p(x \\mid y,k),$$\n",
    "and compute its mean $\\mu$ and covariance $C$ (i.e. estimate the likely image, but also look at how much it could vary).\n",
    "\n",
    "Under a Gaussian prior, $\\mu$ and $C$ can be expressed simply in terms of $A_x$ and $b_x$:\n",
    "$$ A_x = \\frac{1}{\\eta^2}T_k^t T_k + \\frac{1}{\\sigma^2}(T_{f_v}^t T_{f_v} + T_{f_h}^t T_{f_h})$$\n",
    "$$ b_x = \\frac{1}{\\eta^2} T_k^t y $$\n",
    "Here $T_k$, $T_{f_h}$ and $T_{f_v}$ are the convolution operators.\n",
    "\n",
    "The conditional distribution $q$ is in fact Gaussian as well, and we can simply express its features given $A_x$ and $b_x$:\n",
    "$$ C = A_x^{-1} $$\n",
    "$$ \\mu = C b_x $$"
   ]
  },
  {
   "cell_type": "code",
   "execution_count": 31,
   "metadata": {},
   "outputs": [],
   "source": [
    "# Re-indexing in numpy functions by default with 'C'-order, with the last index changing fastest.\n",
    "\n",
    "# Image indices go from (0,0) to (N-1,N-1) included\n",
    "image_index = np.reshape(np.arange(N),(n,n))\n",
    "\n",
    "# Kernel indices go from (-K,-K) to (K,K) included\n",
    "def kernel_index(u,v):\n",
    "    return (u+K)*(2*K+1) + v+K\n",
    "\n",
    "# TODO : When performing convolution, we could consider the image to be its own symmetric past the edges,\n",
    "# with the boundary pixels taking up two spaces. ???\n",
    "# Actual implementation : return an image with zero values ???\n",
    "def Toeplitz_matrix(kernel):\n",
    "    T = np.zeros((N,N))\n",
    "    for i1 in range(n):\n",
    "        for j1 in range(n):\n",
    "            for i2 in range(n):\n",
    "                for j2 in range(n):\n",
    "                    if -K <= i2-i1 <= K and -K <= j2-j1 <= K:\n",
    "                        #print(i1,j1,i2,j2)\n",
    "                        T[image_index[i1,j1],image_index[i2,j2]] = kernel[kernel_index(i2-i1,j2-j1)]\n",
    "    return T\n",
    "\n",
    "kernel = np.arange((2*K+1)**2)\n",
    "#print(Toeplitz_matrix(kernel))\n",
    "\n",
    "# fh of fv matrix computation\n",
    "f1_matrix = np.zeros((N,N))\n",
    "for i in range(n):\n",
    "    for j in range(n-1):\n",
    "        f1_matrix[image_index[i,j],image_index[i,j+1]] = 1\n",
    "        f1_matrix[image_index[i,j],image_index[i,j]] = -1\n",
    "f2_matrix = np.zeros((N,N))\n",
    "for i in range(n-1):\n",
    "    for j in range(n):\n",
    "        f2_matrix[image_index[i,j],image_index[i+1,j]] = 1\n",
    "        f2_matrix[image_index[i,j],image_index[i,j]] = -1"
   ]
  },
  {
   "cell_type": "markdown",
   "metadata": {},
   "source": [
    "### M-step\n",
    "Estimate the kernel $k$ minimizing\n",
    "$$ E_q \\left[  || k*x - y ||^2  \\right] .$$\n",
    "Since we are considering the $q$-expectation of something quadratic, it only depends on the first two moments of $q(x)$, so $\\mu$ and $C$ are sufficient."
   ]
  },
  {
   "cell_type": "code",
   "execution_count": null,
   "metadata": {
    "collapsed": true
   },
   "outputs": [],
   "source": []
  }
 ],
 "metadata": {
  "kernelspec": {
   "display_name": "Python 3",
   "language": "python",
   "name": "python3"
  },
  "language_info": {
   "codemirror_mode": {
    "name": "ipython",
    "version": 3
   },
   "file_extension": ".py",
   "mimetype": "text/x-python",
   "name": "python",
   "nbconvert_exporter": "python",
   "pygments_lexer": "ipython3",
   "version": "3.6.0"
  }
 },
 "nbformat": 4,
 "nbformat_minor": 2
}
